{
 "cells": [
  {
   "cell_type": "markdown",
   "id": "5f3fa087-c775-4745-9fea-dcc50815affa",
   "metadata": {},
   "source": [
    "**How to use Center Crop**  \n",
    "The following functions are in IsoDAT2D.py, and this tutorial includes a potential main to run the functions in."
   ]
  },
  {
   "cell_type": "code",
   "execution_count": null,
   "id": "04361bf0-9a3a-4026-b27e-5e6e5b60c830",
   "metadata": {},
   "outputs": [],
   "source": [
    "import numpy as np\n",
    "import tifffile as tiff\n",
    "import matplotlib.pyplot as plt\n",
    "import fabio\n",
    "import SimDAT2D.SimDAT2D as sim"
   ]
  },
  {
   "cell_type": "code",
   "execution_count": null,
   "id": "6ab9c87e-8686-473a-bf2e-43910f97d06b",
   "metadata": {},
   "outputs": [],
   "source": [
    "def center_and_crop(image, crop_size=1400):\n",
    "    \"\"\"\n",
    "    Displays an image, lets the user click 3 times to pick a center,\n",
    "    then crops the image to a square region of `crop_size` x `crop_size`.\n",
    "    \"\"\"\n",
    "    # Display image for clicks\n",
    "    plt.figure(\"Select 3 Points\", figsize=(14, 14))\n",
    "    plt.imshow(image, vmin=0, vmax=1000000)\n",
    "    plt.title(\"Click 3 times to select the center for cropping\")\n",
    "    plt.axis(\"on\")\n",
    "    \n",
    "    # Capture exactly 3 clicks\n",
    "    points = plt.ginput(3, timeout=-1)\n",
    "    plt.close()\n",
    "    \n",
    "    if len(points) != 3:\n",
    "        raise ValueError(\"You must click exactly 3 points.\")\n",
    "    \n",
    "    # Compute the average click position\n",
    "    center_x = int(np.mean([pt[0] for pt in points]))\n",
    "    center_y = int(np.mean([pt[1] for pt in points]))\n",
    "    print(f\"Computed center: ({center_x}, {center_y})\")\n",
    "    \n",
    "    # Calculate half-size\n",
    "    half_size = crop_size // 2\n",
    "    \n",
    "    # Tentative boundaries\n",
    "    x_min = center_x - half_size\n",
    "    x_max = center_x + half_size\n",
    "    y_min = center_y - half_size\n",
    "    y_max = center_y + half_size\n",
    "    \n",
    "    # Ensure we don't go outside the image\n",
    "    height, width = image.shape[:2]\n",
    "    if x_min < 0:\n",
    "        x_min = 0\n",
    "        x_max = min(crop_size, width)\n",
    "    if y_min < 0:\n",
    "        y_min = 0\n",
    "        y_max = min(crop_size, height)\n",
    "    if x_max > width:\n",
    "        x_max = width\n",
    "        x_min = max(0, width - crop_size)\n",
    "    if y_max > height:\n",
    "        y_max = height\n",
    "        y_min = max(0, height - crop_size)\n",
    "\n",
    "    cropped_image = image[y_min:y_max, x_min:x_max]\n",
    "    \n",
    "    return cropped_image\n"
   ]
  },
  {
   "cell_type": "code",
   "execution_count": null,
   "id": "33067ed3-2e0e-427d-8ccc-b5136ad2823f",
   "metadata": {},
   "outputs": [],
   "source": [
    "def create_line_mask(image):\n",
    "    \"\"\"\n",
    "    Creates a mask where True indicates valid pixel\n",
    "    \"\"\"\n",
    "    mask = (image > 0)\n",
    "    return mask"
   ]
  },
  {
   "cell_type": "code",
   "execution_count": null,
   "id": "6b64c2ed-3e7f-4685-b666-2f2bbebd32c2",
   "metadata": {},
   "outputs": [],
   "source": [
    "def preprocess_pilatus(file_name, crop_size=1400):\n",
    "    \"\"\"\n",
    "    Loads a file, centers & crops (if needed), and creates a line mask.\n",
    "    Returns (mask, corrected_image).\n",
    "    \"\"\"\n",
    "    # Simple check to see if it's a CBF file\n",
    "    if file_name.lower().endswith(\".cbf\"):\n",
    "        print(f\"Detected CBF file: {file_name}\")\n",
    "        image_data = fabio.open(file_name).data\n",
    "        # Center & crop\n",
    "        corrected_image = center_and_crop(image_data, crop_size=crop_size)\n",
    "    else:\n",
    "        print(f\"Detected non-CBF file: {file_name}\")\n",
    "    \n",
    "    # Create the mask to remove lines/gaps\n",
    "    mask = create_line_mask(corrected_image)\n",
    "    \n",
    "    return mask, corrected_image\n"
   ]
  },
  {
   "cell_type": "markdown",
   "id": "cf720ce3-ad80-4857-a1c6-58ea87f3fb31",
   "metadata": {},
   "source": [
    "**Change file name and any dimensions you want to alter depending on the size of your tiff or cbf file**"
   ]
  },
  {
   "cell_type": "code",
   "execution_count": null,
   "id": "f9c1624f-192f-4b57-b2c5-3d4d5e6c859b",
   "metadata": {},
   "outputs": [],
   "source": [
    "if __name__ == \"__main__\":\n",
    "    file_name = \"da_7_c_gst_sio2.cbf\"  # Replace with your file path\n",
    "    #Preprocess the image (center, crop, and create a line mask)\n",
    "    mask, cropped_img = preprocess_pilatus(file_name, crop_size=1400)\n",
    "    \n",
    "    #Use the mask to set invalid pixels to NaN in the cropped image.\n",
    "    processed_img = np.where(mask, cropped_img, np.nan)\n",
    "    \n",
    "    #Define the circular region parameters.\n",
    "    circle_center = (processed_img.shape[0] // 2, processed_img.shape[1] // 2)\n",
    "    circle_radius = 700\n",
    "    circled_img = fill_with_circle(processed_img, radius=circle_radius, center=circle_center)\n",
    "    \n",
    "    #Fill in the NaN values within the circle using your second function.\n",
    "    filled_img = fill_nan_with_neighbor_mean_circle(circled_img, radius=circle_radius, center=circle_center)\n",
    "    \n",
    "    # Display the final processed image\n",
    "    plt.figure(\"Final Processed Image\", figsize=(12, 12))\n",
    "    plt.imshow(circled_img, cmap='magma', vmin=0, vmax=1000000)\n",
    "    plt.title(\"Cropped Image with Circular Mask and Filled NaNs\")\n",
    "    plt.axis(\"off\")\n",
    "    plt.show()"
   ]
  },
  {
   "cell_type": "code",
   "execution_count": null,
   "id": "49a7dc87-59aa-4b37-8d8c-07bd288cba87",
   "metadata": {},
   "outputs": [],
   "source": []
  },
  {
   "cell_type": "code",
   "execution_count": null,
   "id": "99b57742-3547-4603-8a84-be7265caa9da",
   "metadata": {},
   "outputs": [],
   "source": []
  }
 ],
 "metadata": {
  "kernelspec": {
   "display_name": "Python 3 (ipykernel)",
   "language": "python",
   "name": "python3"
  },
  "language_info": {
   "codemirror_mode": {
    "name": "ipython",
    "version": 3
   },
   "file_extension": ".py",
   "mimetype": "text/x-python",
   "name": "python",
   "nbconvert_exporter": "python",
   "pygments_lexer": "ipython3",
   "version": "3.10.11"
  }
 },
 "nbformat": 4,
 "nbformat_minor": 5
}
