{
 "cells": [
  {
   "cell_type": "code",
   "execution_count": null,
   "metadata": {
    "vscode": {
     "languageId": "plaintext"
    }
   },
   "outputs": [],
   "source": [
    "import SimDAT2D.SimDAT2D_MDK as sim\n",
    "import matplotlib.pyplot as plt\n",
    "import numpy as np\n",
    "import pandas as pd\n",
    "import IsoDAT2D.IsoDAT2D_MDK as iso\n",
    "from PIL import Image\n",
    "import pyFAI, fabio\n",
    "from pyFAI.gui import jupyter\n",
    "import pyFAI\n",
    "import os\n",
    "import matplotlib.pyplot as plt\n",
    "from tifffile import imread\n",
    "from SimDAT2D import masking\n",
    "import pyFAI.azimuthalIntegrator as AI\n",
    "from scipy.ndimage import shift\n",
    "from scipy.cluster.hierarchy import dendrogram, linkage\n",
    "from sklearn.metrics import silhouette_score, calinski_harabasz_score"
   ]
  },
  {
   "cell_type": "code",
   "execution_count": null,
   "metadata": {
    "vscode": {
     "languageId": "plaintext"
    }
   },
   "outputs": [],
   "source": [
    "#For ring creation\n",
    "isotropic_signal = sim.create_isotropic(.4, .5e-10, cmap = 'magma')\n",
    "#For spot creation\n",
    "anisotropic_signal = sim.create_anisotropic(25, 50, 300, 300, cmap = 'magma')\n",
    "#combining signals \n",
    "thin_film = sim.combine_image(isotropic_signal, anisotropic_signal*2, cmap= 'magma')"
   ]
  },
  {
   "cell_type": "code",
   "execution_count": null,
   "metadata": {
    "vscode": {
     "languageId": "plaintext"
    }
   },
   "outputs": [],
   "source": []
  },
  {
   "cell_type": "code",
   "execution_count": null,
   "metadata": {
    "vscode": {
     "languageId": "plaintext"
    }
   },
   "outputs": [],
   "source": []
  },
  {
   "cell_type": "code",
   "execution_count": null,
   "metadata": {
    "vscode": {
     "languageId": "plaintext"
    }
   },
   "outputs": [],
   "source": []
  }
 ],
 "metadata": {
  "language_info": {
   "name": "python"
  }
 },
 "nbformat": 4,
 "nbformat_minor": 2
}
